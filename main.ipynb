{
 "cells": [
  {
   "cell_type": "code",
   "execution_count": 76,
   "id": "ec2c0b3d-8eb4-4bd4-96a6-835487dc00b9",
   "metadata": {
    "executionInfo": {
     "elapsed": 19,
     "status": "ok",
     "timestamp": 1639376381058,
     "user": {
      "displayName": "Paulo Mota",
      "photoUrl": "https://lh3.googleusercontent.com/a-/AOh14Gg9fQ67QrMZCyK3_6CXewHRlKWT3zx5ak1hkZ0cxg=s64",
      "userId": "17997540686514262706"
     },
     "user_tz": -60
    },
    "id": "ec2c0b3d-8eb4-4bd4-96a6-835487dc00b9"
   },
   "outputs": [],
   "source": [
    "import pandas as pd\n",
    "import numpy as np\n",
    "import seaborn as sns"
   ]
  },
  {
   "cell_type": "markdown",
   "id": "8c44385e-92c1-4fb0-a2df-06a32a14fafb",
   "metadata": {
    "tags": []
   },
   "source": [
    "# Business Understanding"
   ]
  },
  {
   "cell_type": "markdown",
   "id": "6499e89e-dc71-4771-a7ff-d234c3b74e2f",
   "metadata": {},
   "source": [
    "I chose the Stack overflow dataset from 2019 to 2021, to check trans community insights inside the IT community around world.\n",
    "\n",
    "I've created 3 questions about it:\n",
    "\n",
    "* 1 How has the number of trans people identified in the survey changed in the past three years?\n",
    "* 2 What are the top and bottom countries by number of trans people?\n",
    "* 3 What is the current situation with programming skills by trans people?"
   ]
  },
  {
   "cell_type": "markdown",
   "id": "c5a04365-8027-46a1-92c4-12a2727515d7",
   "metadata": {
    "tags": []
   },
   "source": [
    "# Data Understanding"
   ]
  },
  {
   "cell_type": "markdown",
   "id": "90805c19-26fc-4858-b842-c98a30799a71",
   "metadata": {},
   "source": [
    "## Access and load datasets "
   ]
  },
  {
   "cell_type": "code",
   "execution_count": 77,
   "id": "dab69aff-e2bf-472d-8115-ab100ebbcb3d",
   "metadata": {
    "colab": {
     "base_uri": "https://localhost:8080/",
     "height": 450
    },
    "executionInfo": {
     "elapsed": 842,
     "status": "error",
     "timestamp": 1639376381885,
     "user": {
      "displayName": "Paulo Mota",
      "photoUrl": "https://lh3.googleusercontent.com/a-/AOh14Gg9fQ67QrMZCyK3_6CXewHRlKWT3zx5ak1hkZ0cxg=s64",
      "userId": "17997540686514262706"
     },
     "user_tz": -60
    },
    "id": "dab69aff-e2bf-472d-8115-ab100ebbcb3d",
    "outputId": "b125e023-fd04-4113-d262-c2e66f4c068f"
   },
   "outputs": [
    {
     "name": "stdout",
     "output_type": "stream",
     "text": [
      " \n",
      "Year 2019\n",
      "Total Rows: 88883\n",
      "Total Columns merged: 86\n",
      " \n",
      "Year 2020\n",
      "Total Rows: 64461\n",
      "Total Columns merged: 62\n",
      " \n",
      "Year 2021\n",
      "Total Rows: 83439\n",
      "Total Columns merged: 49\n",
      " \n",
      "All Years\n",
      "Total Rows: 236783\n",
      "Total Columns merged: 126\n"
     ]
    }
   ],
   "source": [
    "df_arr =[]\n",
    "df = pd.DataFrame()\n",
    "years= [2019,2020,2021]\n",
    "\n",
    "for year in years:\n",
    "    filename ='survey_results_public_'+str(year)+'.csv'\n",
    "    df_tmp = pd.read_csv(filename,encoding='latin-1');\n",
    "    df_tmp['yearData'] = year;\n",
    "    print(\" \")\n",
    "    print(\"Year \"+str(year));\n",
    "    print(\"Total Rows: \"+str(df_tmp.shape[0]));\n",
    "    print(\"Total Columns merged: \"+str(df_tmp.shape[1]));\n",
    "    df = df.append(df_tmp, sort=False);\n",
    "    df_arr.append(df_tmp)\n",
    "print(\" \")\n",
    "print(\"All Years\")\n",
    "print(\"Total Rows: \"+str(df.shape[0]))\n",
    "print(\"Total Columns merged: \"+str(df.shape[1]))"
   ]
  },
  {
   "cell_type": "code",
   "execution_count": 78,
   "id": "e243aebb-5a45-4919-9f4f-5754a02485ef",
   "metadata": {},
   "outputs": [
    {
     "name": "stdout",
     "output_type": "stream",
     "text": [
      "Total Rows: 236783\n",
      "Total Columns merged: 24\n"
     ]
    }
   ],
   "source": [
    "df = df[common_cols]\n",
    "print(\"Total Rows: \"+str(df.shape[0]))\n",
    "print(\"Total Columns merged: \"+str(df.shape[1]))"
   ]
  },
  {
   "cell_type": "code",
   "execution_count": 79,
   "id": "ef0a4738-e197-4e34-b624-f092df00ea46",
   "metadata": {},
   "outputs": [
    {
     "data": {
      "text/html": [
       "<div>\n",
       "<style scoped>\n",
       "    .dataframe tbody tr th:only-of-type {\n",
       "        vertical-align: middle;\n",
       "    }\n",
       "\n",
       "    .dataframe tbody tr th {\n",
       "        vertical-align: top;\n",
       "    }\n",
       "\n",
       "    .dataframe thead th {\n",
       "        text-align: right;\n",
       "    }\n",
       "</style>\n",
       "<table border=\"1\" class=\"dataframe\">\n",
       "  <thead>\n",
       "    <tr style=\"text-align: right;\">\n",
       "      <th></th>\n",
       "      <th>SOAccount</th>\n",
       "      <th>Gender</th>\n",
       "      <th>DevType</th>\n",
       "      <th>CompTotal</th>\n",
       "      <th>SOPartFreq</th>\n",
       "      <th>Trans</th>\n",
       "      <th>CompFreq</th>\n",
       "      <th>MainBranch</th>\n",
       "      <th>Country</th>\n",
       "      <th>SOComm</th>\n",
       "      <th>...</th>\n",
       "      <th>YearsCode</th>\n",
       "      <th>Age1stCode</th>\n",
       "      <th>yearData</th>\n",
       "      <th>Sexuality</th>\n",
       "      <th>OpSys</th>\n",
       "      <th>SurveyLength</th>\n",
       "      <th>Employment</th>\n",
       "      <th>SOVisitFreq</th>\n",
       "      <th>EdLevel</th>\n",
       "      <th>OrgSize</th>\n",
       "    </tr>\n",
       "  </thead>\n",
       "  <tbody>\n",
       "    <tr>\n",
       "      <th>0</th>\n",
       "      <td>No</td>\n",
       "      <td>Man</td>\n",
       "      <td>NaN</td>\n",
       "      <td>NaN</td>\n",
       "      <td>NaN</td>\n",
       "      <td>No</td>\n",
       "      <td>NaN</td>\n",
       "      <td>I am a student who is learning to code</td>\n",
       "      <td>United Kingdom</td>\n",
       "      <td>Neutral</td>\n",
       "      <td>...</td>\n",
       "      <td>4</td>\n",
       "      <td>10</td>\n",
       "      <td>2019</td>\n",
       "      <td>Straight / Heterosexual</td>\n",
       "      <td>Windows</td>\n",
       "      <td>Appropriate in length</td>\n",
       "      <td>Not employed, and not looking for work</td>\n",
       "      <td>A few times per month or weekly</td>\n",
       "      <td>Primary/elementary school</td>\n",
       "      <td>NaN</td>\n",
       "    </tr>\n",
       "    <tr>\n",
       "      <th>1</th>\n",
       "      <td>Yes</td>\n",
       "      <td>Man</td>\n",
       "      <td>Developer, desktop or enterprise applications;...</td>\n",
       "      <td>NaN</td>\n",
       "      <td>A few times per month or weekly</td>\n",
       "      <td>No</td>\n",
       "      <td>NaN</td>\n",
       "      <td>I am a student who is learning to code</td>\n",
       "      <td>Bosnia and Herzegovina</td>\n",
       "      <td>Yes, somewhat</td>\n",
       "      <td>...</td>\n",
       "      <td>NaN</td>\n",
       "      <td>17</td>\n",
       "      <td>2019</td>\n",
       "      <td>Straight / Heterosexual</td>\n",
       "      <td>Windows</td>\n",
       "      <td>Appropriate in length</td>\n",
       "      <td>Not employed, but looking for work</td>\n",
       "      <td>Daily or almost daily</td>\n",
       "      <td>Secondary school (e.g. American high school, G...</td>\n",
       "      <td>NaN</td>\n",
       "    </tr>\n",
       "    <tr>\n",
       "      <th>2</th>\n",
       "      <td>Yes</td>\n",
       "      <td>Man</td>\n",
       "      <td>Designer;Developer, back-end;Developer, front-...</td>\n",
       "      <td>23000.0</td>\n",
       "      <td>Less than once per month or monthly</td>\n",
       "      <td>No</td>\n",
       "      <td>Monthly</td>\n",
       "      <td>I am not primarily a developer, but I write co...</td>\n",
       "      <td>Thailand</td>\n",
       "      <td>Neutral</td>\n",
       "      <td>...</td>\n",
       "      <td>3</td>\n",
       "      <td>22</td>\n",
       "      <td>2019</td>\n",
       "      <td>Straight / Heterosexual</td>\n",
       "      <td>Linux-based</td>\n",
       "      <td>Appropriate in length</td>\n",
       "      <td>Employed full-time</td>\n",
       "      <td>A few times per week</td>\n",
       "      <td>Bachelorâs degree (BA, BS, B.Eng., etc.)</td>\n",
       "      <td>100 to 499 employees</td>\n",
       "    </tr>\n",
       "    <tr>\n",
       "      <th>3</th>\n",
       "      <td>Yes</td>\n",
       "      <td>Man</td>\n",
       "      <td>Developer, full-stack</td>\n",
       "      <td>61000.0</td>\n",
       "      <td>Less than once per month or monthly</td>\n",
       "      <td>No</td>\n",
       "      <td>Yearly</td>\n",
       "      <td>I am a developer by profession</td>\n",
       "      <td>United States</td>\n",
       "      <td>No, not really</td>\n",
       "      <td>...</td>\n",
       "      <td>3</td>\n",
       "      <td>16</td>\n",
       "      <td>2019</td>\n",
       "      <td>Straight / Heterosexual</td>\n",
       "      <td>Windows</td>\n",
       "      <td>Appropriate in length</td>\n",
       "      <td>Employed full-time</td>\n",
       "      <td>Daily or almost daily</td>\n",
       "      <td>Bachelorâs degree (BA, BS, B.Eng., etc.)</td>\n",
       "      <td>100 to 499 employees</td>\n",
       "    </tr>\n",
       "    <tr>\n",
       "      <th>4</th>\n",
       "      <td>Yes</td>\n",
       "      <td>Man</td>\n",
       "      <td>Academic researcher;Developer, desktop or ente...</td>\n",
       "      <td>NaN</td>\n",
       "      <td>A few times per month or weekly</td>\n",
       "      <td>No</td>\n",
       "      <td>NaN</td>\n",
       "      <td>I am a developer by profession</td>\n",
       "      <td>Ukraine</td>\n",
       "      <td>Yes, definitely</td>\n",
       "      <td>...</td>\n",
       "      <td>16</td>\n",
       "      <td>14</td>\n",
       "      <td>2019</td>\n",
       "      <td>Straight / Heterosexual</td>\n",
       "      <td>Linux-based</td>\n",
       "      <td>Appropriate in length</td>\n",
       "      <td>Employed full-time</td>\n",
       "      <td>Multiple times per day</td>\n",
       "      <td>Bachelorâs degree (BA, BS, B.Eng., etc.)</td>\n",
       "      <td>10,000 or more employees</td>\n",
       "    </tr>\n",
       "  </tbody>\n",
       "</table>\n",
       "<p>5 rows × 24 columns</p>\n",
       "</div>"
      ],
      "text/plain": [
       "  SOAccount Gender                                            DevType  \\\n",
       "0        No    Man                                                NaN   \n",
       "1       Yes    Man  Developer, desktop or enterprise applications;...   \n",
       "2       Yes    Man  Designer;Developer, back-end;Developer, front-...   \n",
       "3       Yes    Man                              Developer, full-stack   \n",
       "4       Yes    Man  Academic researcher;Developer, desktop or ente...   \n",
       "\n",
       "   CompTotal                           SOPartFreq Trans CompFreq  \\\n",
       "0        NaN                                  NaN    No      NaN   \n",
       "1        NaN      A few times per month or weekly    No      NaN   \n",
       "2    23000.0  Less than once per month or monthly    No  Monthly   \n",
       "3    61000.0  Less than once per month or monthly    No   Yearly   \n",
       "4        NaN      A few times per month or weekly    No      NaN   \n",
       "\n",
       "                                          MainBranch                 Country  \\\n",
       "0             I am a student who is learning to code          United Kingdom   \n",
       "1             I am a student who is learning to code  Bosnia and Herzegovina   \n",
       "2  I am not primarily a developer, but I write co...                Thailand   \n",
       "3                     I am a developer by profession           United States   \n",
       "4                     I am a developer by profession                 Ukraine   \n",
       "\n",
       "            SOComm  ... YearsCode Age1stCode yearData  \\\n",
       "0          Neutral  ...         4         10     2019   \n",
       "1    Yes, somewhat  ...       NaN         17     2019   \n",
       "2          Neutral  ...         3         22     2019   \n",
       "3   No, not really  ...         3         16     2019   \n",
       "4  Yes, definitely  ...        16         14     2019   \n",
       "\n",
       "                 Sexuality        OpSys           SurveyLength  \\\n",
       "0  Straight / Heterosexual      Windows  Appropriate in length   \n",
       "1  Straight / Heterosexual      Windows  Appropriate in length   \n",
       "2  Straight / Heterosexual  Linux-based  Appropriate in length   \n",
       "3  Straight / Heterosexual      Windows  Appropriate in length   \n",
       "4  Straight / Heterosexual  Linux-based  Appropriate in length   \n",
       "\n",
       "                               Employment                      SOVisitFreq  \\\n",
       "0  Not employed, and not looking for work  A few times per month or weekly   \n",
       "1      Not employed, but looking for work            Daily or almost daily   \n",
       "2                      Employed full-time             A few times per week   \n",
       "3                      Employed full-time            Daily or almost daily   \n",
       "4                      Employed full-time           Multiple times per day   \n",
       "\n",
       "                                             EdLevel                   OrgSize  \n",
       "0                          Primary/elementary school                       NaN  \n",
       "1  Secondary school (e.g. American high school, G...                       NaN  \n",
       "2         Bachelorâs degree (BA, BS, B.Eng., etc.)      100 to 499 employees  \n",
       "3         Bachelorâs degree (BA, BS, B.Eng., etc.)      100 to 499 employees  \n",
       "4         Bachelorâs degree (BA, BS, B.Eng., etc.)  10,000 or more employees  \n",
       "\n",
       "[5 rows x 24 columns]"
      ]
     },
     "execution_count": 79,
     "metadata": {},
     "output_type": "execute_result"
    }
   ],
   "source": [
    "df.head()"
   ]
  },
  {
   "cell_type": "code",
   "execution_count": 80,
   "id": "2cee1e73-687f-43c1-b479-23e3cc1e7eda",
   "metadata": {},
   "outputs": [
    {
     "data": {
      "text/html": [
       "<div>\n",
       "<style scoped>\n",
       "    .dataframe tbody tr th:only-of-type {\n",
       "        vertical-align: middle;\n",
       "    }\n",
       "\n",
       "    .dataframe tbody tr th {\n",
       "        vertical-align: top;\n",
       "    }\n",
       "\n",
       "    .dataframe thead th {\n",
       "        text-align: right;\n",
       "    }\n",
       "</style>\n",
       "<table border=\"1\" class=\"dataframe\">\n",
       "  <thead>\n",
       "    <tr style=\"text-align: right;\">\n",
       "      <th></th>\n",
       "      <th>CompTotal</th>\n",
       "      <th>yearData</th>\n",
       "    </tr>\n",
       "  </thead>\n",
       "  <tbody>\n",
       "    <tr>\n",
       "      <th>count</th>\n",
       "      <td>1.379540e+05</td>\n",
       "      <td>236783.000000</td>\n",
       "    </tr>\n",
       "    <tr>\n",
       "      <th>mean</th>\n",
       "      <td>8.054215e+241</td>\n",
       "      <td>2019.977008</td>\n",
       "    </tr>\n",
       "    <tr>\n",
       "      <th>std</th>\n",
       "      <td>inf</td>\n",
       "      <td>0.852782</td>\n",
       "    </tr>\n",
       "    <tr>\n",
       "      <th>min</th>\n",
       "      <td>0.000000e+00</td>\n",
       "      <td>2019.000000</td>\n",
       "    </tr>\n",
       "    <tr>\n",
       "      <th>25%</th>\n",
       "      <td>1.850000e+04</td>\n",
       "      <td>2019.000000</td>\n",
       "    </tr>\n",
       "    <tr>\n",
       "      <th>50%</th>\n",
       "      <td>6.500000e+04</td>\n",
       "      <td>2020.000000</td>\n",
       "    </tr>\n",
       "    <tr>\n",
       "      <th>75%</th>\n",
       "      <td>1.280000e+05</td>\n",
       "      <td>2021.000000</td>\n",
       "    </tr>\n",
       "    <tr>\n",
       "      <th>max</th>\n",
       "      <td>1.111111e+247</td>\n",
       "      <td>2021.000000</td>\n",
       "    </tr>\n",
       "  </tbody>\n",
       "</table>\n",
       "</div>"
      ],
      "text/plain": [
       "           CompTotal       yearData\n",
       "count   1.379540e+05  236783.000000\n",
       "mean   8.054215e+241    2019.977008\n",
       "std              inf       0.852782\n",
       "min     0.000000e+00    2019.000000\n",
       "25%     1.850000e+04    2019.000000\n",
       "50%     6.500000e+04    2020.000000\n",
       "75%     1.280000e+05    2021.000000\n",
       "max    1.111111e+247    2021.000000"
      ]
     },
     "execution_count": 80,
     "metadata": {},
     "output_type": "execute_result"
    }
   ],
   "source": [
    "df.describe()"
   ]
  },
  {
   "cell_type": "code",
   "execution_count": 81,
   "id": "80600a7b-ce88-4c62-9373-2238d6c3fa54",
   "metadata": {},
   "outputs": [
    {
     "data": {
      "text/plain": [
       "array([[<AxesSubplot:title={'center':'CompTotal'}>,\n",
       "        <AxesSubplot:title={'center':'yearData'}>]], dtype=object)"
      ]
     },
     "execution_count": 81,
     "metadata": {},
     "output_type": "execute_result"
    },
    {
     "data": {
      "image/png": "[encoded data removed]",
      "text/plain": [
       "<Figure size 432x288 with 2 Axes>"
      ]
     },
     "metadata": {
      "needs_background": "light"
     },
     "output_type": "display_data"
    }
   ],
   "source": [
    "df.hist()"
   ]
  },
  {
   "cell_type": "code",
   "execution_count": 82,
   "id": "a8737dee-b0c0-4b84-bd84-ec3fe5c986c4",
   "metadata": {},
   "outputs": [
    {
     "data": {
      "image/png": "[encoded data removed]",
      "text/plain": [
       "<Figure size 432x288 with 2 Axes>"
      ]
     },
     "metadata": {
      "needs_background": "light"
     },
     "output_type": "display_data"
    }
   ],
   "source": [
    "sns.heatmap(df.corr(), annot=True, fmt=\".2f\");"
   ]
  },
  {
   "cell_type": "markdown",
   "id": "cec5c778-7916-497e-b671-c4dc5ebc79f4",
   "metadata": {
    "tags": []
   },
   "source": [
    "# Prepare Data"
   ]
  },
  {
   "cell_type": "markdown",
   "id": "a6b15e26-83b5-4792-ad67-f9f0535a60fa",
   "metadata": {
    "id": "7cfc9a05-4445-48f6-9df4-9efed4fd9f09"
   },
   "source": [
    "### Use just common columns "
   ]
  },
  {
   "cell_type": "code",
   "execution_count": 83,
   "id": "789c938c-4908-4f79-b246-be7f1bca3267",
   "metadata": {},
   "outputs": [
    {
     "data": {
      "text/plain": [
       "['SOAccount',\n",
       " 'Gender',\n",
       " 'DevType',\n",
       " 'CompTotal',\n",
       " 'SOPartFreq',\n",
       " 'Trans',\n",
       " 'CompFreq',\n",
       " 'MainBranch',\n",
       " 'Country',\n",
       " 'SOComm',\n",
       " 'Age',\n",
       " 'YearsCodePro',\n",
       " 'SurveyEase',\n",
       " 'Ethnicity',\n",
       " 'YearsCode',\n",
       " 'Age1stCode',\n",
       " 'yearData',\n",
       " 'Sexuality',\n",
       " 'OpSys',\n",
       " 'SurveyLength',\n",
       " 'Employment',\n",
       " 'SOVisitFreq',\n",
       " 'EdLevel',\n",
       " 'OrgSize']"
      ]
     },
     "execution_count": 83,
     "metadata": {},
     "output_type": "execute_result"
    }
   ],
   "source": [
    "common_cols = list(set.intersection(*(set(df.columns) for df in df_arr)))\n",
    "common_cols"
   ]
  },
  {
   "cell_type": "markdown",
   "id": "b6a9341d-e36b-42ed-9b24-fce059fa94d1",
   "metadata": {
    "tags": []
   },
   "source": [
    "### Checking and Fixing missing data"
   ]
  },
  {
   "cell_type": "code",
   "execution_count": 84,
   "id": "c8927b79-d0c3-4b04-80cf-52555f160b1c",
   "metadata": {
    "id": "c8927b79-d0c3-4b04-80cf-52555f160b1c",
    "outputId": "a965b6cb-f8e8-4dc6-f9dd-7e2b20883bd1"
   },
   "outputs": [
    {
     "data": {
      "text/plain": [
       "SOAccount        9625\n",
       "Gender          18534\n",
       "DevType         39594\n",
       "CompTotal       98829\n",
       "SOPartFreq      47746\n",
       "Trans           23153\n",
       "CompFreq        81296\n",
       "MainBranch        851\n",
       "Country           521\n",
       "SOComm           9857\n",
       "Age             29720\n",
       "YearsCodePro    54887\n",
       "SurveyEase      15952\n",
       "Ethnicity       34703\n",
       "YearsCode        9520\n",
       "Age1stCode       8006\n",
       "yearData            0\n",
       "Sexuality       43278\n",
       "OpSys            9410\n",
       "SurveyLength    16387\n",
       "Employment       2425\n",
       "SOVisitFreq      9137\n",
       "EdLevel          9836\n",
       "OrgSize         59932\n",
       "dtype: int64"
      ]
     },
     "execution_count": 84,
     "metadata": {},
     "output_type": "execute_result"
    }
   ],
   "source": [
    "df.isnull().sum()"
   ]
  },
  {
   "cell_type": "code",
   "execution_count": 85,
   "id": "48638b97-b4f3-447b-9e02-18c02f0bffc7",
   "metadata": {
    "id": "48638b97-b4f3-447b-9e02-18c02f0bffc7"
   },
   "outputs": [],
   "source": [
    "#Checking missing values\n",
    "percent_missing = df.isnull().sum() * 100 / len(df)\n",
    "missing_value_df = pd.DataFrame({'column_name': df.columns,\n",
    "                                 'percent_missing': percent_missing})"
   ]
  },
  {
   "cell_type": "code",
   "execution_count": 86,
   "id": "04fe83bc-5471-4fe7-8be7-f339e3aa74f2",
   "metadata": {
    "id": "04fe83bc-5471-4fe7-8be7-f339e3aa74f2",
    "outputId": "18e63f41-b06b-499e-9eb5-dd692376cad9"
   },
   "outputs": [
    {
     "data": {
      "text/html": [
       "<div>\n",
       "<style scoped>\n",
       "    .dataframe tbody tr th:only-of-type {\n",
       "        vertical-align: middle;\n",
       "    }\n",
       "\n",
       "    .dataframe tbody tr th {\n",
       "        vertical-align: top;\n",
       "    }\n",
       "\n",
       "    .dataframe thead th {\n",
       "        text-align: right;\n",
       "    }\n",
       "</style>\n",
       "<table border=\"1\" class=\"dataframe\">\n",
       "  <thead>\n",
       "    <tr style=\"text-align: right;\">\n",
       "      <th></th>\n",
       "      <th>column_name</th>\n",
       "      <th>percent_missing</th>\n",
       "    </tr>\n",
       "  </thead>\n",
       "  <tbody>\n",
       "    <tr>\n",
       "      <th>SOAccount</th>\n",
       "      <td>SOAccount</td>\n",
       "      <td>4.064903</td>\n",
       "    </tr>\n",
       "    <tr>\n",
       "      <th>Gender</th>\n",
       "      <td>Gender</td>\n",
       "      <td>7.827420</td>\n",
       "    </tr>\n",
       "    <tr>\n",
       "      <th>DevType</th>\n",
       "      <td>DevType</td>\n",
       "      <td>16.721640</td>\n",
       "    </tr>\n",
       "    <tr>\n",
       "      <th>CompTotal</th>\n",
       "      <td>CompTotal</td>\n",
       "      <td>41.738216</td>\n",
       "    </tr>\n",
       "    <tr>\n",
       "      <th>SOPartFreq</th>\n",
       "      <td>SOPartFreq</td>\n",
       "      <td>20.164454</td>\n",
       "    </tr>\n",
       "    <tr>\n",
       "      <th>Trans</th>\n",
       "      <td>Trans</td>\n",
       "      <td>9.778151</td>\n",
       "    </tr>\n",
       "    <tr>\n",
       "      <th>CompFreq</th>\n",
       "      <td>CompFreq</td>\n",
       "      <td>34.333546</td>\n",
       "    </tr>\n",
       "    <tr>\n",
       "      <th>MainBranch</th>\n",
       "      <td>MainBranch</td>\n",
       "      <td>0.359401</td>\n",
       "    </tr>\n",
       "    <tr>\n",
       "      <th>Country</th>\n",
       "      <td>Country</td>\n",
       "      <td>0.220033</td>\n",
       "    </tr>\n",
       "    <tr>\n",
       "      <th>SOComm</th>\n",
       "      <td>SOComm</td>\n",
       "      <td>4.162883</td>\n",
       "    </tr>\n",
       "    <tr>\n",
       "      <th>Age</th>\n",
       "      <td>Age</td>\n",
       "      <td>12.551577</td>\n",
       "    </tr>\n",
       "    <tr>\n",
       "      <th>YearsCodePro</th>\n",
       "      <td>YearsCodePro</td>\n",
       "      <td>23.180296</td>\n",
       "    </tr>\n",
       "    <tr>\n",
       "      <th>SurveyEase</th>\n",
       "      <td>SurveyEase</td>\n",
       "      <td>6.736970</td>\n",
       "    </tr>\n",
       "    <tr>\n",
       "      <th>Ethnicity</th>\n",
       "      <td>Ethnicity</td>\n",
       "      <td>14.656035</td>\n",
       "    </tr>\n",
       "    <tr>\n",
       "      <th>YearsCode</th>\n",
       "      <td>YearsCode</td>\n",
       "      <td>4.020559</td>\n",
       "    </tr>\n",
       "    <tr>\n",
       "      <th>Age1stCode</th>\n",
       "      <td>Age1stCode</td>\n",
       "      <td>3.381155</td>\n",
       "    </tr>\n",
       "    <tr>\n",
       "      <th>yearData</th>\n",
       "      <td>yearData</td>\n",
       "      <td>0.000000</td>\n",
       "    </tr>\n",
       "    <tr>\n",
       "      <th>Sexuality</th>\n",
       "      <td>Sexuality</td>\n",
       "      <td>18.277495</td>\n",
       "    </tr>\n",
       "    <tr>\n",
       "      <th>OpSys</th>\n",
       "      <td>OpSys</td>\n",
       "      <td>3.974103</td>\n",
       "    </tr>\n",
       "    <tr>\n",
       "      <th>SurveyLength</th>\n",
       "      <td>SurveyLength</td>\n",
       "      <td>6.920683</td>\n",
       "    </tr>\n",
       "    <tr>\n",
       "      <th>Employment</th>\n",
       "      <td>Employment</td>\n",
       "      <td>1.024144</td>\n",
       "    </tr>\n",
       "    <tr>\n",
       "      <th>SOVisitFreq</th>\n",
       "      <td>SOVisitFreq</td>\n",
       "      <td>3.858807</td>\n",
       "    </tr>\n",
       "    <tr>\n",
       "      <th>EdLevel</th>\n",
       "      <td>EdLevel</td>\n",
       "      <td>4.154014</td>\n",
       "    </tr>\n",
       "    <tr>\n",
       "      <th>OrgSize</th>\n",
       "      <td>OrgSize</td>\n",
       "      <td>25.310939</td>\n",
       "    </tr>\n",
       "  </tbody>\n",
       "</table>\n",
       "</div>"
      ],
      "text/plain": [
       "               column_name  percent_missing\n",
       "SOAccount        SOAccount         4.064903\n",
       "Gender              Gender         7.827420\n",
       "DevType            DevType        16.721640\n",
       "CompTotal        CompTotal        41.738216\n",
       "SOPartFreq      SOPartFreq        20.164454\n",
       "Trans                Trans         9.778151\n",
       "CompFreq          CompFreq        34.333546\n",
       "MainBranch      MainBranch         0.359401\n",
       "Country            Country         0.220033\n",
       "SOComm              SOComm         4.162883\n",
       "Age                    Age        12.551577\n",
       "YearsCodePro  YearsCodePro        23.180296\n",
       "SurveyEase      SurveyEase         6.736970\n",
       "Ethnicity        Ethnicity        14.656035\n",
       "YearsCode        YearsCode         4.020559\n",
       "Age1stCode      Age1stCode         3.381155\n",
       "yearData          yearData         0.000000\n",
       "Sexuality        Sexuality        18.277495\n",
       "OpSys                OpSys         3.974103\n",
       "SurveyLength  SurveyLength         6.920683\n",
       "Employment      Employment         1.024144\n",
       "SOVisitFreq    SOVisitFreq         3.858807\n",
       "EdLevel            EdLevel         4.154014\n",
       "OrgSize            OrgSize        25.310939"
      ]
     },
     "execution_count": 86,
     "metadata": {},
     "output_type": "execute_result"
    }
   ],
   "source": [
    "missing_value_df"
   ]
  },
  {
   "cell_type": "markdown",
   "id": "4a26ba52-f4ad-4e62-80d9-59f92cec6013",
   "metadata": {},
   "source": [
    "### Fill missing values "
   ]
  },
  {
   "cell_type": "code",
   "execution_count": 87,
   "id": "a4502854-c18b-4025-b6da-25774290b4cb",
   "metadata": {},
   "outputs": [],
   "source": [
    "df['MainBranch'].fillna('None of these', inplace=True)\n",
    "df['Trans'].fillna('Prefer not to say', inplace=True)\n",
    "df['Sexuality'].fillna('Prefer not to say', inplace=True)\n",
    "df['Gender'].fillna('Prefer not to say', inplace=True)\n",
    "df['Country'].fillna('Prefer not to say', inplace=True)"
   ]
  },
  {
   "cell_type": "markdown",
   "id": "6da5aaa8-b262-49fc-ba27-9cc9744ef801",
   "metadata": {},
   "source": [
    "### Create an id column with index to use on the group by\n",
    "#### Because I needed a column with unique values"
   ]
  },
  {
   "cell_type": "code",
   "execution_count": 88,
   "id": "1e986219-9444-4e28-b6a4-416f828dea7b",
   "metadata": {
    "id": "1e986219-9444-4e28-b6a4-416f828dea7b",
    "outputId": "1cb7c9e8-4319-4d12-baf4-f78bea3da6af"
   },
   "outputs": [
    {
     "data": {
      "text/html": [
       "<div>\n",
       "<style scoped>\n",
       "    .dataframe tbody tr th:only-of-type {\n",
       "        vertical-align: middle;\n",
       "    }\n",
       "\n",
       "    .dataframe tbody tr th {\n",
       "        vertical-align: top;\n",
       "    }\n",
       "\n",
       "    .dataframe thead th {\n",
       "        text-align: right;\n",
       "    }\n",
       "</style>\n",
       "<table border=\"1\" class=\"dataframe\">\n",
       "  <thead>\n",
       "    <tr style=\"text-align: right;\">\n",
       "      <th></th>\n",
       "      <th>level_0</th>\n",
       "      <th>index</th>\n",
       "      <th>SOAccount</th>\n",
       "      <th>Gender</th>\n",
       "      <th>DevType</th>\n",
       "      <th>CompTotal</th>\n",
       "      <th>SOPartFreq</th>\n",
       "      <th>Trans</th>\n",
       "      <th>CompFreq</th>\n",
       "      <th>MainBranch</th>\n",
       "      <th>...</th>\n",
       "      <th>YearsCode</th>\n",
       "      <th>Age1stCode</th>\n",
       "      <th>yearData</th>\n",
       "      <th>Sexuality</th>\n",
       "      <th>OpSys</th>\n",
       "      <th>SurveyLength</th>\n",
       "      <th>Employment</th>\n",
       "      <th>SOVisitFreq</th>\n",
       "      <th>EdLevel</th>\n",
       "      <th>OrgSize</th>\n",
       "    </tr>\n",
       "  </thead>\n",
       "  <tbody>\n",
       "    <tr>\n",
       "      <th>0</th>\n",
       "      <td>0</td>\n",
       "      <td>0</td>\n",
       "      <td>No</td>\n",
       "      <td>Man</td>\n",
       "      <td>NaN</td>\n",
       "      <td>NaN</td>\n",
       "      <td>NaN</td>\n",
       "      <td>No</td>\n",
       "      <td>NaN</td>\n",
       "      <td>I am a student who is learning to code</td>\n",
       "      <td>...</td>\n",
       "      <td>4</td>\n",
       "      <td>10</td>\n",
       "      <td>2019</td>\n",
       "      <td>Straight / Heterosexual</td>\n",
       "      <td>Windows</td>\n",
       "      <td>Appropriate in length</td>\n",
       "      <td>Not employed, and not looking for work</td>\n",
       "      <td>A few times per month or weekly</td>\n",
       "      <td>Primary/elementary school</td>\n",
       "      <td>NaN</td>\n",
       "    </tr>\n",
       "    <tr>\n",
       "      <th>1</th>\n",
       "      <td>1</td>\n",
       "      <td>1</td>\n",
       "      <td>Yes</td>\n",
       "      <td>Man</td>\n",
       "      <td>Developer, desktop or enterprise applications;...</td>\n",
       "      <td>NaN</td>\n",
       "      <td>A few times per month or weekly</td>\n",
       "      <td>No</td>\n",
       "      <td>NaN</td>\n",
       "      <td>I am a student who is learning to code</td>\n",
       "      <td>...</td>\n",
       "      <td>NaN</td>\n",
       "      <td>17</td>\n",
       "      <td>2019</td>\n",
       "      <td>Straight / Heterosexual</td>\n",
       "      <td>Windows</td>\n",
       "      <td>Appropriate in length</td>\n",
       "      <td>Not employed, but looking for work</td>\n",
       "      <td>Daily or almost daily</td>\n",
       "      <td>Secondary school (e.g. American high school, G...</td>\n",
       "      <td>NaN</td>\n",
       "    </tr>\n",
       "    <tr>\n",
       "      <th>2</th>\n",
       "      <td>2</td>\n",
       "      <td>2</td>\n",
       "      <td>Yes</td>\n",
       "      <td>Man</td>\n",
       "      <td>Designer;Developer, back-end;Developer, front-...</td>\n",
       "      <td>23000.0</td>\n",
       "      <td>Less than once per month or monthly</td>\n",
       "      <td>No</td>\n",
       "      <td>Monthly</td>\n",
       "      <td>I am not primarily a developer, but I write co...</td>\n",
       "      <td>...</td>\n",
       "      <td>3</td>\n",
       "      <td>22</td>\n",
       "      <td>2019</td>\n",
       "      <td>Straight / Heterosexual</td>\n",
       "      <td>Linux-based</td>\n",
       "      <td>Appropriate in length</td>\n",
       "      <td>Employed full-time</td>\n",
       "      <td>A few times per week</td>\n",
       "      <td>Bachelorâs degree (BA, BS, B.Eng., etc.)</td>\n",
       "      <td>100 to 499 employees</td>\n",
       "    </tr>\n",
       "    <tr>\n",
       "      <th>3</th>\n",
       "      <td>3</td>\n",
       "      <td>3</td>\n",
       "      <td>Yes</td>\n",
       "      <td>Man</td>\n",
       "      <td>Developer, full-stack</td>\n",
       "      <td>61000.0</td>\n",
       "      <td>Less than once per month or monthly</td>\n",
       "      <td>No</td>\n",
       "      <td>Yearly</td>\n",
       "      <td>I am a developer by profession</td>\n",
       "      <td>...</td>\n",
       "      <td>3</td>\n",
       "      <td>16</td>\n",
       "      <td>2019</td>\n",
       "      <td>Straight / Heterosexual</td>\n",
       "      <td>Windows</td>\n",
       "      <td>Appropriate in length</td>\n",
       "      <td>Employed full-time</td>\n",
       "      <td>Daily or almost daily</td>\n",
       "      <td>Bachelorâs degree (BA, BS, B.Eng., etc.)</td>\n",
       "      <td>100 to 499 employees</td>\n",
       "    </tr>\n",
       "    <tr>\n",
       "      <th>4</th>\n",
       "      <td>4</td>\n",
       "      <td>4</td>\n",
       "      <td>Yes</td>\n",
       "      <td>Man</td>\n",
       "      <td>Academic researcher;Developer, desktop or ente...</td>\n",
       "      <td>NaN</td>\n",
       "      <td>A few times per month or weekly</td>\n",
       "      <td>No</td>\n",
       "      <td>NaN</td>\n",
       "      <td>I am a developer by profession</td>\n",
       "      <td>...</td>\n",
       "      <td>16</td>\n",
       "      <td>14</td>\n",
       "      <td>2019</td>\n",
       "      <td>Straight / Heterosexual</td>\n",
       "      <td>Linux-based</td>\n",
       "      <td>Appropriate in length</td>\n",
       "      <td>Employed full-time</td>\n",
       "      <td>Multiple times per day</td>\n",
       "      <td>Bachelorâs degree (BA, BS, B.Eng., etc.)</td>\n",
       "      <td>10,000 or more employees</td>\n",
       "    </tr>\n",
       "  </tbody>\n",
       "</table>\n",
       "<p>5 rows × 26 columns</p>\n",
       "</div>"
      ],
      "text/plain": [
       "   level_0  index SOAccount Gender  \\\n",
       "0        0      0        No    Man   \n",
       "1        1      1       Yes    Man   \n",
       "2        2      2       Yes    Man   \n",
       "3        3      3       Yes    Man   \n",
       "4        4      4       Yes    Man   \n",
       "\n",
       "                                             DevType  CompTotal  \\\n",
       "0                                                NaN        NaN   \n",
       "1  Developer, desktop or enterprise applications;...        NaN   \n",
       "2  Designer;Developer, back-end;Developer, front-...    23000.0   \n",
       "3                              Developer, full-stack    61000.0   \n",
       "4  Academic researcher;Developer, desktop or ente...        NaN   \n",
       "\n",
       "                            SOPartFreq Trans CompFreq  \\\n",
       "0                                  NaN    No      NaN   \n",
       "1      A few times per month or weekly    No      NaN   \n",
       "2  Less than once per month or monthly    No  Monthly   \n",
       "3  Less than once per month or monthly    No   Yearly   \n",
       "4      A few times per month or weekly    No      NaN   \n",
       "\n",
       "                                          MainBranch  ... YearsCode  \\\n",
       "0             I am a student who is learning to code  ...         4   \n",
       "1             I am a student who is learning to code  ...       NaN   \n",
       "2  I am not primarily a developer, but I write co...  ...         3   \n",
       "3                     I am a developer by profession  ...         3   \n",
       "4                     I am a developer by profession  ...        16   \n",
       "\n",
       "  Age1stCode yearData                Sexuality        OpSys  \\\n",
       "0         10     2019  Straight / Heterosexual      Windows   \n",
       "1         17     2019  Straight / Heterosexual      Windows   \n",
       "2         22     2019  Straight / Heterosexual  Linux-based   \n",
       "3         16     2019  Straight / Heterosexual      Windows   \n",
       "4         14     2019  Straight / Heterosexual  Linux-based   \n",
       "\n",
       "            SurveyLength                              Employment  \\\n",
       "0  Appropriate in length  Not employed, and not looking for work   \n",
       "1  Appropriate in length      Not employed, but looking for work   \n",
       "2  Appropriate in length                      Employed full-time   \n",
       "3  Appropriate in length                      Employed full-time   \n",
       "4  Appropriate in length                      Employed full-time   \n",
       "\n",
       "                       SOVisitFreq  \\\n",
       "0  A few times per month or weekly   \n",
       "1            Daily or almost daily   \n",
       "2             A few times per week   \n",
       "3            Daily or almost daily   \n",
       "4           Multiple times per day   \n",
       "\n",
       "                                             EdLevel                   OrgSize  \n",
       "0                          Primary/elementary school                       NaN  \n",
       "1  Secondary school (e.g. American high school, G...                       NaN  \n",
       "2         Bachelorâs degree (BA, BS, B.Eng., etc.)      100 to 499 employees  \n",
       "3         Bachelorâs degree (BA, BS, B.Eng., etc.)      100 to 499 employees  \n",
       "4         Bachelorâs degree (BA, BS, B.Eng., etc.)  10,000 or more employees  \n",
       "\n",
       "[5 rows x 26 columns]"
      ]
     },
     "execution_count": 88,
     "metadata": {},
     "output_type": "execute_result"
    }
   ],
   "source": [
    "df.reset_index(level=0, inplace=True)\n",
    "df.reset_index(level=0, inplace=True)\n",
    "df.head()"
   ]
  },
  {
   "cell_type": "markdown",
   "id": "4a606be7-d68c-4732-bba3-9547ed544bcb",
   "metadata": {},
   "source": [
    "### Replace reduntant values with different names to one unique value"
   ]
  },
  {
   "cell_type": "code",
   "execution_count": 89,
   "id": "28486920-184d-42ae-9211-5c75d90de479",
   "metadata": {
    "id": "28486920-184d-42ae-9211-5c75d90de479",
    "outputId": "da8f7778-4e13-4cd8-b797-cd9ca27c13f7"
   },
   "outputs": [],
   "source": [
    "df['Trans'].replace({\"Or, in your own words:\": \"Prefer not to say\"}, inplace=True)\n",
    "df['Country'].replace({\"United States of America\": \"United States\"}, inplace=True)"
   ]
  },
  {
   "cell_type": "markdown",
   "id": "70c17471-369e-4d78-8dbb-4e3ccf574f87",
   "metadata": {},
   "source": [
    "#### Export clean dataset to use on Tableau Dashboard "
   ]
  },
  {
   "cell_type": "code",
   "execution_count": 90,
   "id": "757199f0-fd6d-48fb-89e0-1c29d9d5e449",
   "metadata": {},
   "outputs": [],
   "source": [
    "df.to_csv('main_data.csv')"
   ]
  },
  {
   "cell_type": "markdown",
   "id": "60e6b6ba-c2db-4b3c-8f39-83c6fc852557",
   "metadata": {
    "tags": []
   },
   "source": [
    "# Question 1:  \n",
    "### How has the number of trans people identified in the survey changed in the past three years?"
   ]
  },
  {
   "cell_type": "markdown",
   "id": "affb9b4e-183f-4c80-85f4-afeafee7c5d0",
   "metadata": {
    "tags": []
   },
   "source": [
    "#### Analyze"
   ]
  },
  {
   "cell_type": "code",
   "execution_count": 91,
   "id": "ce0fa8cf-bb8e-47cc-a889-2e1a3a390cc0",
   "metadata": {},
   "outputs": [
    {
     "data": {
      "text/html": [
       "<div>\n",
       "<style scoped>\n",
       "    .dataframe tbody tr th:only-of-type {\n",
       "        vertical-align: middle;\n",
       "    }\n",
       "\n",
       "    .dataframe tbody tr th {\n",
       "        vertical-align: top;\n",
       "    }\n",
       "\n",
       "    .dataframe thead th {\n",
       "        text-align: right;\n",
       "    }\n",
       "</style>\n",
       "<table border=\"1\" class=\"dataframe\">\n",
       "  <thead>\n",
       "    <tr style=\"text-align: right;\">\n",
       "      <th>Trans</th>\n",
       "      <th>yearData</th>\n",
       "      <th>No</th>\n",
       "      <th>Prefer not to say</th>\n",
       "      <th>Yes</th>\n",
       "    </tr>\n",
       "  </thead>\n",
       "  <tbody>\n",
       "    <tr>\n",
       "      <th>0</th>\n",
       "      <td>2019</td>\n",
       "      <td>82576</td>\n",
       "      <td>5276</td>\n",
       "      <td>1031</td>\n",
       "    </tr>\n",
       "    <tr>\n",
       "      <th>1</th>\n",
       "      <td>2020</td>\n",
       "      <td>48871</td>\n",
       "      <td>15116</td>\n",
       "      <td>474</td>\n",
       "    </tr>\n",
       "    <tr>\n",
       "      <th>2</th>\n",
       "      <td>2021</td>\n",
       "      <td>77275</td>\n",
       "      <td>5129</td>\n",
       "      <td>1035</td>\n",
       "    </tr>\n",
       "  </tbody>\n",
       "</table>\n",
       "</div>"
      ],
      "text/plain": [
       "Trans  yearData     No  Prefer not to say   Yes\n",
       "0          2019  82576               5276  1031\n",
       "1          2020  48871              15116   474\n",
       "2          2021  77275               5129  1035"
      ]
     },
     "execution_count": 91,
     "metadata": {},
     "output_type": "execute_result"
    }
   ],
   "source": [
    "df_transpercent = df.pivot_table('level_0', index='yearData', columns='Trans', aggfunc='count').reset_index()\n",
    "df_transpercent = df_transpercent.sort_values('yearData')\n",
    "df_transpercent.to_csv('data_percent_per_year.csv',index=False)\n",
    "df_transpercent.head()"
   ]
  },
  {
   "cell_type": "markdown",
   "id": "cea934e0-8b0d-4a0a-aced-b64a6c33750c",
   "metadata": {
    "tags": []
   },
   "source": [
    "### Visulize"
   ]
  },
  {
   "cell_type": "code",
   "execution_count": 92,
   "id": "633792b4-7db0-4031-bcec-37e7a93a396d",
   "metadata": {},
   "outputs": [
    {
     "data": {
      "image/png": "[encoded data removed]",
      "text/plain": [
       "<Figure size 1296x720 with 1 Axes>"
      ]
     },
     "metadata": {
      "needs_background": "light"
     },
     "output_type": "display_data"
    }
   ],
   "source": [
    "import matplotlib.pyplot as plt  \n",
    "  \n",
    "fig = plt.figure(figsize = (18, 10)) \n",
    "  \n",
    "# creating the bar plot \n",
    "plt.bar(df_transpercent['yearData'], df_transpercent['Yes'], color ='#F7A8B8',  \n",
    "        width = 0.2) \n",
    "plt.xticks(list(df_transpercent['yearData']),fontsize=15)  \n",
    "plt.ylabel(\"No. of people\",fontsize=15) \n",
    "plt.yticks(fontsize=15)\n",
    "plt.xlabel(\"Years\",fontsize=15) \n",
    "plt.show() "
   ]
  },
  {
   "cell_type": "code",
   "execution_count": 93,
   "id": "43488c78-4c52-40a7-bdc3-1beb8e742313",
   "metadata": {},
   "outputs": [
    {
     "data": {
      "image/png": "[encoded data removed]",
      "text/plain": [
       "<Figure size 1440x800 with 1 Axes>"
      ]
     },
     "metadata": {
      "needs_background": "light"
     },
     "output_type": "display_data"
    }
   ],
   "source": [
    "# Draw Plot\n",
    "plt.figure(figsize=(18,10), dpi= 80)\n",
    "plt.plot('yearData', 'Yes', data=df_transpercent, color='tab:red')\n",
    "\n",
    "# Decoration\n",
    "plt.ylim(0, df_transpercent['Yes'].max()+0.2)\n",
    "xtick_location = df_transpercent['Yes'].tolist()\n",
    "xtick_labels = [x[-3:] for x in df_transpercent.yearData.astype(str).tolist()]\n",
    "plt.xticks(list(df_transpercent['yearData']),fontsize=15)\n",
    "plt.yticks(fontsize=15, alpha=.3)\n",
    "plt.title(\"Number of trans poeple in stackoverflow survey\", fontsize=22)\n",
    "plt.grid(axis='both', alpha=.3)\n",
    "plt.xlabel('Years',fontsize=22)\n",
    "plt.ylabel('Number of people',fontsize=22)\n",
    "\n",
    "# Remove borders\n",
    "plt.gca().spines[\"top\"].set_alpha(0.0)    \n",
    "plt.gca().spines[\"bottom\"].set_alpha(0.2)\n",
    "plt.gca().spines[\"right\"].set_alpha(0.0)    \n",
    "plt.gca().spines[\"left\"].set_alpha(0.2)   \n",
    "plt.show()"
   ]
  },
  {
   "cell_type": "markdown",
   "id": "633f8770-3047-4be9-9339-dd65fb987a90",
   "metadata": {
    "jp-MarkdownHeadingCollapsed": true,
    "tags": []
   },
   "source": [
    "### Explain the visualization\n",
    "\n",
    "In the both charts show that we do not have too much trans people in the survey and we have a descrese from 2019 to 2020 and an increse from 2020 to 2021. "
   ]
  },
  {
   "cell_type": "markdown",
   "id": "8dd5402c-049f-482a-8093-e8f8f0bef312",
   "metadata": {},
   "source": [
    "# Question 2\n",
    "### What are the top and bottom countries by number of trans people?"
   ]
  },
  {
   "cell_type": "markdown",
   "id": "0e3eaa81-9f5a-4c1c-950c-b4ae3854d6ee",
   "metadata": {
    "tags": []
   },
   "source": [
    "### Analyze"
   ]
  },
  {
   "cell_type": "code",
   "execution_count": 94,
   "id": "40703283-88f1-413a-a4d8-3f889cca48a4",
   "metadata": {},
   "outputs": [
    {
     "data": {
      "text/html": [
       "<div>\n",
       "<style scoped>\n",
       "    .dataframe tbody tr th:only-of-type {\n",
       "        vertical-align: middle;\n",
       "    }\n",
       "\n",
       "    .dataframe tbody tr th {\n",
       "        vertical-align: top;\n",
       "    }\n",
       "\n",
       "    .dataframe thead th {\n",
       "        text-align: right;\n",
       "    }\n",
       "</style>\n",
       "<table border=\"1\" class=\"dataframe\">\n",
       "  <thead>\n",
       "    <tr style=\"text-align: right;\">\n",
       "      <th></th>\n",
       "      <th></th>\n",
       "      <th></th>\n",
       "      <th>level_0</th>\n",
       "    </tr>\n",
       "    <tr>\n",
       "      <th>yearData</th>\n",
       "      <th>Trans</th>\n",
       "      <th>Country</th>\n",
       "      <th></th>\n",
       "    </tr>\n",
       "  </thead>\n",
       "  <tbody>\n",
       "    <tr>\n",
       "      <th rowspan=\"5\" valign=\"top\">2019</th>\n",
       "      <th rowspan=\"5\" valign=\"top\">No</th>\n",
       "      <th>Afghanistan</th>\n",
       "      <td>22</td>\n",
       "    </tr>\n",
       "    <tr>\n",
       "      <th>Albania</th>\n",
       "      <td>78</td>\n",
       "    </tr>\n",
       "    <tr>\n",
       "      <th>Algeria</th>\n",
       "      <td>100</td>\n",
       "    </tr>\n",
       "    <tr>\n",
       "      <th>Andorra</th>\n",
       "      <td>4</td>\n",
       "    </tr>\n",
       "    <tr>\n",
       "      <th>Angola</th>\n",
       "      <td>4</td>\n",
       "    </tr>\n",
       "    <tr>\n",
       "      <th>...</th>\n",
       "      <th>...</th>\n",
       "      <th>...</th>\n",
       "      <td>...</td>\n",
       "    </tr>\n",
       "    <tr>\n",
       "      <th rowspan=\"5\" valign=\"top\">2021</th>\n",
       "      <th rowspan=\"5\" valign=\"top\">Yes</th>\n",
       "      <th>United Arab Emirates</th>\n",
       "      <td>2</td>\n",
       "    </tr>\n",
       "    <tr>\n",
       "      <th>United Kingdom of Great Britain and Northern Ireland</th>\n",
       "      <td>77</td>\n",
       "    </tr>\n",
       "    <tr>\n",
       "      <th>United States</th>\n",
       "      <td>293</td>\n",
       "    </tr>\n",
       "    <tr>\n",
       "      <th>Uruguay</th>\n",
       "      <td>2</td>\n",
       "    </tr>\n",
       "    <tr>\n",
       "      <th>Viet Nam</th>\n",
       "      <td>9</td>\n",
       "    </tr>\n",
       "  </tbody>\n",
       "</table>\n",
       "<p>1241 rows × 1 columns</p>\n",
       "</div>"
      ],
      "text/plain": [
       "                                                                   level_0\n",
       "yearData Trans Country                                                    \n",
       "2019     No    Afghanistan                                              22\n",
       "               Albania                                                  78\n",
       "               Algeria                                                 100\n",
       "               Andorra                                                   4\n",
       "               Angola                                                    4\n",
       "...                                                                    ...\n",
       "2021     Yes   United Arab Emirates                                      2\n",
       "               United Kingdom of Great Britain and Northern Ir...       77\n",
       "               United States                                           293\n",
       "               Uruguay                                                   2\n",
       "               Viet Nam                                                  9\n",
       "\n",
       "[1241 rows x 1 columns]"
      ]
     },
     "execution_count": 94,
     "metadata": {},
     "output_type": "execute_result"
    }
   ],
   "source": [
    "df_trans = df.groupby(['yearData','Trans','Country']).agg({'level_0': 'count'})\n",
    "df_trans.to_csv('data_percent_per_year_country.csv')\n",
    "df_trans"
   ]
  },
  {
   "cell_type": "code",
   "execution_count": 95,
   "id": "589a5e5e-5162-4669-b542-bfb4ad45ee3b",
   "metadata": {},
   "outputs": [],
   "source": [
    "df_transpercountry = df_trans.pivot_table('level_0', index='Country', columns='Trans', aggfunc='sum').reset_index()\n",
    "df_transpercountry['Yes'].fillna(0.00, inplace=True)\n",
    "df_transpercountry = df_transpercountry.sort_values('Yes', ascending=False)\n",
    "df_trans.to_csv('data_percent_per_year_country.csv',index=False)\n",
    "top_highest = df_transpercountry.head(10)\n",
    "df_transpercountry = df_transpercountry.sort_values('Yes', ascending=True)\n",
    "top_lowest = df_transpercountry.head(10)"
   ]
  },
  {
   "cell_type": "markdown",
   "id": "5f5ea29a-9243-4181-95b3-10d8bf7b4ae8",
   "metadata": {
    "tags": []
   },
   "source": [
    "### Vizualize"
   ]
  },
  {
   "cell_type": "code",
   "execution_count": 96,
   "id": "f64460c1",
   "metadata": {},
   "outputs": [
    {
     "data": {
      "image/png": "[encoded data removed]",
      "text/plain": [
       "<Figure size 1600x2400 with 1 Axes>"
      ]
     },
     "metadata": {
      "needs_background": "light"
     },
     "output_type": "display_data"
    }
   ],
   "source": [
    "# Prepare Data\n",
    "df2 = top_lowest.append(top_highest, sort=False);\n",
    "x = df2.loc[:, ['Yes']]\n",
    "df2['colors'] = ['#55CDFC' if x < 0 else '#F7A8B8' for x in df2['Yes']]\n",
    "df2.sort_values('Yes', inplace=True)\n",
    "df2.reset_index(inplace=True)\n",
    "\n",
    "# Draw plot\n",
    "plt.figure(figsize=(20,30), dpi= 80)\n",
    "plt.hlines(y=df2.index, xmin=0, xmax=df2.Yes, color=df2.colors, alpha=0.7, linewidth=60)\n",
    "\n",
    "# Decorations\n",
    "plt.xlabel('Number of People',fontsize=30)\n",
    "plt.ylabel('Country',fontsize=30)\n",
    "plt.yticks(df2.index, df2.Country, fontsize=25)\n",
    "plt.xticks(fontsize=25)\n",
    "plt.grid(linestyle='-', alpha=0.5)\n",
    "plt.show()"
   ]
  },
  {
   "cell_type": "markdown",
   "id": "0870999d-9b97-4a45-a74a-932c829f70b7",
   "metadata": {
    "jp-MarkdownHeadingCollapsed": true,
    "tags": []
   },
   "source": [
    "### Explain the visualization\n",
    "\n",
    "It is evident in the bar chart top and bottom 10 countries by number of trans people in the Stack overflow survey. "
   ]
  },
  {
   "cell_type": "markdown",
   "id": "7b9edd19",
   "metadata": {},
   "source": [
    "# Question 3\n",
    "### What is the current situation with programming skills by trans people?"
   ]
  },
  {
   "cell_type": "markdown",
   "id": "ef01a09e-59c6-4d42-b2c9-f5357e84f064",
   "metadata": {
    "tags": []
   },
   "source": [
    "### Analyze"
   ]
  },
  {
   "cell_type": "code",
   "execution_count": 97,
   "id": "ec823d61-31bb-410b-95cc-055c675ff1f0",
   "metadata": {},
   "outputs": [
    {
     "data": {
      "text/plain": [
       "0                    I am a student who is learning to code\n",
       "1                    I am a student who is learning to code\n",
       "2         I am not primarily a developer, but I write co...\n",
       "3                            I am a developer by profession\n",
       "4                            I am a developer by profession\n",
       "                                ...                        \n",
       "236778                       I am a developer by profession\n",
       "236779                       I am a developer by profession\n",
       "236780                       I am a developer by profession\n",
       "236781                       I am a developer by profession\n",
       "236782                       I am a developer by profession\n",
       "Name: MainBranch, Length: 236783, dtype: object"
      ]
     },
     "execution_count": 97,
     "metadata": {},
     "output_type": "execute_result"
    }
   ],
   "source": [
    "df['MainBranch']"
   ]
  },
  {
   "cell_type": "code",
   "execution_count": 98,
   "id": "08fcca51",
   "metadata": {},
   "outputs": [
    {
     "data": {
      "text/html": [
       "<div>\n",
       "<style scoped>\n",
       "    .dataframe tbody tr th:only-of-type {\n",
       "        vertical-align: middle;\n",
       "    }\n",
       "\n",
       "    .dataframe tbody tr th {\n",
       "        vertical-align: top;\n",
       "    }\n",
       "\n",
       "    .dataframe thead th {\n",
       "        text-align: right;\n",
       "    }\n",
       "</style>\n",
       "<table border=\"1\" class=\"dataframe\">\n",
       "  <thead>\n",
       "    <tr style=\"text-align: right;\">\n",
       "      <th></th>\n",
       "      <th></th>\n",
       "      <th>level_0</th>\n",
       "    </tr>\n",
       "    <tr>\n",
       "      <th>MainBranch</th>\n",
       "      <th>Trans</th>\n",
       "      <th></th>\n",
       "    </tr>\n",
       "  </thead>\n",
       "  <tbody>\n",
       "    <tr>\n",
       "      <th rowspan=\"3\" valign=\"top\">I am a developer by profession</th>\n",
       "      <th>No</th>\n",
       "      <td>152591</td>\n",
       "    </tr>\n",
       "    <tr>\n",
       "      <th>Prefer not to say</th>\n",
       "      <td>16952</td>\n",
       "    </tr>\n",
       "    <tr>\n",
       "      <th>Yes</th>\n",
       "      <td>1482</td>\n",
       "    </tr>\n",
       "    <tr>\n",
       "      <th rowspan=\"3\" valign=\"top\">I am a student who is learning to code</th>\n",
       "      <th>No</th>\n",
       "      <td>25836</td>\n",
       "    </tr>\n",
       "    <tr>\n",
       "      <th>Prefer not to say</th>\n",
       "      <td>3885</td>\n",
       "    </tr>\n",
       "    <tr>\n",
       "      <th>Yes</th>\n",
       "      <td>467</td>\n",
       "    </tr>\n",
       "    <tr>\n",
       "      <th rowspan=\"3\" valign=\"top\">I am not primarily a developer, but I write code sometimes as part of my work</th>\n",
       "      <th>No</th>\n",
       "      <td>17132</td>\n",
       "    </tr>\n",
       "    <tr>\n",
       "      <th>Prefer not to say</th>\n",
       "      <td>2285</td>\n",
       "    </tr>\n",
       "    <tr>\n",
       "      <th>Yes</th>\n",
       "      <td>202</td>\n",
       "    </tr>\n",
       "    <tr>\n",
       "      <th rowspan=\"3\" valign=\"top\">I code primarily as a hobby</th>\n",
       "      <th>No</th>\n",
       "      <td>8965</td>\n",
       "    </tr>\n",
       "    <tr>\n",
       "      <th>Prefer not to say</th>\n",
       "      <td>1354</td>\n",
       "    </tr>\n",
       "    <tr>\n",
       "      <th>Yes</th>\n",
       "      <td>264</td>\n",
       "    </tr>\n",
       "    <tr>\n",
       "      <th rowspan=\"3\" valign=\"top\">I used to be a developer by profession, but no longer am</th>\n",
       "      <th>No</th>\n",
       "      <td>3378</td>\n",
       "    </tr>\n",
       "    <tr>\n",
       "      <th>Prefer not to say</th>\n",
       "      <td>553</td>\n",
       "    </tr>\n",
       "    <tr>\n",
       "      <th>Yes</th>\n",
       "      <td>73</td>\n",
       "    </tr>\n",
       "    <tr>\n",
       "      <th rowspan=\"3\" valign=\"top\">None of these</th>\n",
       "      <th>No</th>\n",
       "      <td>820</td>\n",
       "    </tr>\n",
       "    <tr>\n",
       "      <th>Prefer not to say</th>\n",
       "      <td>492</td>\n",
       "    </tr>\n",
       "    <tr>\n",
       "      <th>Yes</th>\n",
       "      <td>52</td>\n",
       "    </tr>\n",
       "  </tbody>\n",
       "</table>\n",
       "</div>"
      ],
      "text/plain": [
       "                                                                      level_0\n",
       "MainBranch                                         Trans                     \n",
       "I am a developer by profession                     No                  152591\n",
       "                                                   Prefer not to say    16952\n",
       "                                                   Yes                   1482\n",
       "I am a student who is learning to code             No                   25836\n",
       "                                                   Prefer not to say     3885\n",
       "                                                   Yes                    467\n",
       "I am not primarily a developer, but I write cod... No                   17132\n",
       "                                                   Prefer not to say     2285\n",
       "                                                   Yes                    202\n",
       "I code primarily as a hobby                        No                    8965\n",
       "                                                   Prefer not to say     1354\n",
       "                                                   Yes                    264\n",
       "I used to be a developer by profession, but no ... No                    3378\n",
       "                                                   Prefer not to say      553\n",
       "                                                   Yes                     73\n",
       "None of these                                      No                     820\n",
       "                                                   Prefer not to say      492\n",
       "                                                   Yes                     52"
      ]
     },
     "execution_count": 98,
     "metadata": {},
     "output_type": "execute_result"
    }
   ],
   "source": [
    "df_trans = df.groupby(['MainBranch','Trans']).agg({'level_0': 'count'})\n",
    "df_trans"
   ]
  },
  {
   "cell_type": "code",
   "execution_count": 99,
   "id": "cde15fb2",
   "metadata": {},
   "outputs": [],
   "source": [
    "df_transpercountry = df_trans.pivot_table('level_0', index='MainBranch', columns='Trans', aggfunc='sum').reset_index()\n",
    "df_transpercountry['Yes'].fillna(0.00, inplace=True)"
   ]
  },
  {
   "cell_type": "code",
   "execution_count": 100,
   "id": "3c488fb5",
   "metadata": {},
   "outputs": [
    {
     "data": {
      "text/html": [
       "<div>\n",
       "<style scoped>\n",
       "    .dataframe tbody tr th:only-of-type {\n",
       "        vertical-align: middle;\n",
       "    }\n",
       "\n",
       "    .dataframe tbody tr th {\n",
       "        vertical-align: top;\n",
       "    }\n",
       "\n",
       "    .dataframe thead th {\n",
       "        text-align: right;\n",
       "    }\n",
       "</style>\n",
       "<table border=\"1\" class=\"dataframe\">\n",
       "  <thead>\n",
       "    <tr style=\"text-align: right;\">\n",
       "      <th>Trans</th>\n",
       "      <th>MainBranch</th>\n",
       "      <th>No</th>\n",
       "      <th>Prefer not to say</th>\n",
       "      <th>Yes</th>\n",
       "    </tr>\n",
       "  </thead>\n",
       "  <tbody>\n",
       "    <tr>\n",
       "      <th>0</th>\n",
       "      <td>I am a developer by profession</td>\n",
       "      <td>152591</td>\n",
       "      <td>16952</td>\n",
       "      <td>1482</td>\n",
       "    </tr>\n",
       "    <tr>\n",
       "      <th>1</th>\n",
       "      <td>I am a student who is learning to code</td>\n",
       "      <td>25836</td>\n",
       "      <td>3885</td>\n",
       "      <td>467</td>\n",
       "    </tr>\n",
       "    <tr>\n",
       "      <th>2</th>\n",
       "      <td>I am not primarily a developer, but I write co...</td>\n",
       "      <td>17132</td>\n",
       "      <td>2285</td>\n",
       "      <td>202</td>\n",
       "    </tr>\n",
       "    <tr>\n",
       "      <th>3</th>\n",
       "      <td>I code primarily as a hobby</td>\n",
       "      <td>8965</td>\n",
       "      <td>1354</td>\n",
       "      <td>264</td>\n",
       "    </tr>\n",
       "    <tr>\n",
       "      <th>4</th>\n",
       "      <td>I used to be a developer by profession, but no...</td>\n",
       "      <td>3378</td>\n",
       "      <td>553</td>\n",
       "      <td>73</td>\n",
       "    </tr>\n",
       "    <tr>\n",
       "      <th>5</th>\n",
       "      <td>None of these</td>\n",
       "      <td>820</td>\n",
       "      <td>492</td>\n",
       "      <td>52</td>\n",
       "    </tr>\n",
       "  </tbody>\n",
       "</table>\n",
       "</div>"
      ],
      "text/plain": [
       "Trans                                         MainBranch      No  \\\n",
       "0                         I am a developer by profession  152591   \n",
       "1                 I am a student who is learning to code   25836   \n",
       "2      I am not primarily a developer, but I write co...   17132   \n",
       "3                            I code primarily as a hobby    8965   \n",
       "4      I used to be a developer by profession, but no...    3378   \n",
       "5                                          None of these     820   \n",
       "\n",
       "Trans  Prefer not to say   Yes  \n",
       "0                  16952  1482  \n",
       "1                   3885   467  \n",
       "2                   2285   202  \n",
       "3                   1354   264  \n",
       "4                    553    73  \n",
       "5                    492    52  "
      ]
     },
     "execution_count": 100,
     "metadata": {},
     "output_type": "execute_result"
    }
   ],
   "source": [
    "df_transpercountry"
   ]
  },
  {
   "cell_type": "markdown",
   "id": "5356bb42-1320-4142-9b2f-4d2a83372b5f",
   "metadata": {
    "tags": []
   },
   "source": [
    "### Visualize"
   ]
  },
  {
   "cell_type": "code",
   "execution_count": 101,
   "id": "845e852e",
   "metadata": {},
   "outputs": [
    {
     "data": {
      "image/png": "[encoded data removed]",
      "text/plain": [
       "<Figure size 900x750 with 1 Axes>"
      ]
     },
     "metadata": {
      "needs_background": "light"
     },
     "output_type": "display_data"
    }
   ],
   "source": [
    "# Prepare Data\n",
    "df2 = df_transpercountry\n",
    "x = df2.loc[:, ['Yes']]\n",
    "df2['colors'] = ['#F7A8B8' if x < 0 else '#F7A8B8' for x in df2['Yes']]\n",
    "df2.sort_values('Yes', inplace=True)\n",
    "df2.reset_index(inplace=True)\n",
    "\n",
    "# Draw plot\n",
    "plt.figure(figsize=(18,15), dpi= 50)\n",
    "plt.hlines(y=df2.index, xmin=0, xmax=df2.Yes, color=df2.colors, alpha=0.7, linewidth=55)\n",
    "\n",
    "# Decorations\n",
    "plt.xlabel('Number of Trans People',fontsize=30)\n",
    "plt.ylabel('MainBranch',fontsize=30)\n",
    "plt.yticks(df2.index, df2.MainBranch, fontsize=25)\n",
    "plt.xticks(fontsize=25)\n",
    "plt.grid(linestyle='-', alpha=0.5)\n",
    "plt.show()"
   ]
  },
  {
   "cell_type": "markdown",
   "id": "742404eb-1d4c-410f-a124-ab7652d30036",
   "metadata": {},
   "source": [
    "### Explain the visualization\n",
    "More than 1400 trans people work as developer  and the others are in progress with programming as student."
   ]
  },
  {
   "cell_type": "markdown",
   "id": "753f70f9-25c4-4d1f-9891-507a7b5e86f5",
   "metadata": {},
   "source": [
    "# Evaluation"
   ]
  },
  {
   "cell_type": "markdown",
   "id": "595d020d-379a-4be5-b8ab-947a380355b2",
   "metadata": {},
   "source": [
    "Even with many people in the survey, trans community needs more incentive from companies, universities and the IT community for growing and transform the IT community a place with more diversity."
   ]
  }
 ],
 "metadata": {
  "colab": {
   "name": "main.ipynb",
   "provenance": []
  },
  "kernelspec": {
   "display_name": "Python 3 (ipykernel)",
   "language": "python",
   "name": "python3"
  },
  "language_info": {
   "codemirror_mode": {
    "name": "ipython",
    "version": 3
   },
   "file_extension": ".py",
   "mimetype": "text/x-python",
   "name": "python",
   "nbconvert_exporter": "python",
   "pygments_lexer": "ipython3",
   "version": "3.9.7"
  }
 },
 "nbformat": 4,
 "nbformat_minor": 5
}
